{
 "cells": [
  {
   "cell_type": "code",
   "execution_count": 2,
   "id": "95005240",
   "metadata": {},
   "outputs": [],
   "source": [
    "import numpy as np\n",
    "import pandas as pd\n",
    "def dimension(file):\n",
    "    f = open(file,'r')\n",
    "    content = f.readlines()\n",
    "    data = []\n",
    "    for x in range(len(content)):\n",
    "        if \"CARTESIAN_POINT\" in content[x]:\n",
    "            d=content[x].replace(\",\",\"\").split(\" \")\n",
    "            y=d[7],d[8],d[9]\n",
    "            data.append(y)\n",
    "        else:\n",
    "            pass   \n",
    "    # storing all the vertices in np.array  \n",
    "    vertices_data = np.array(data).astype(float)\n",
    "\n",
    "    # storing the X, Y, Z minimum and Maximum values\n",
    "    x_min=np.amin(vertices_data[:,0])\n",
    "    y_min=np.amin(vertices_data[:,1])\n",
    "    z_min=np.amin(vertices_data[:,2])\n",
    "    x_max=np.amax(vertices_data[:,0])\n",
    "    y_max=np.amax(vertices_data[:,1])\n",
    "    z_max=np.amax(vertices_data[:,2])\n",
    "    #  Calculate the distance\n",
    "    def measure(min_,max_):\n",
    "        dist = max_ - min_\n",
    "        return dist\n",
    "    # Finding the Box Dimension:\n",
    "    length = round(measure(x_min,x_max),2)\n",
    "    width = round(measure(y_min,y_max),2)\n",
    "    height = round(measure(z_min,z_max),2)\n",
    "    return length, width, height"
   ]
  },
  {
   "cell_type": "code",
   "execution_count": 3,
   "id": "fb53ebde",
   "metadata": {},
   "outputs": [
    {
     "name": "stdout",
     "output_type": "stream",
     "text": [
      "(100.0, 0.0, 50.0)\n"
     ]
    }
   ],
   "source": [
    "print(dimension(\"ravi.STEP\"))"
   ]
  },
  {
   "cell_type": "code",
   "execution_count": 4,
   "id": "30fe511c",
   "metadata": {},
   "outputs": [
    {
     "name": "stdout",
     "output_type": "stream",
     "text": [
      "(15.0, 28.0, 128.0)\n"
     ]
    }
   ],
   "source": [
    "print(dimension(\"BI300-03-014-02.STEP\"))"
   ]
  },
  {
   "cell_type": "code",
   "execution_count": 5,
   "id": "2258d40c",
   "metadata": {},
   "outputs": [
    {
     "name": "stdout",
     "output_type": "stream",
     "text": [
      "(15.0, 28.0, 128.0)\n"
     ]
    }
   ],
   "source": [
    "print(dimension(\"BI300-03-014-02.STEP\"))"
   ]
  },
  {
   "cell_type": "code",
   "execution_count": 6,
   "id": "38ddab99",
   "metadata": {},
   "outputs": [
    {
     "name": "stdout",
     "output_type": "stream",
     "text": [
      "(190.0, 110.0, 140.0)\n"
     ]
    }
   ],
   "source": [
    "print(dimension(\"BI500-01-002-01.STEP\"))"
   ]
  },
  {
   "cell_type": "code",
   "execution_count": 7,
   "id": "41617d7f",
   "metadata": {},
   "outputs": [
    {
     "name": "stdout",
     "output_type": "stream",
     "text": [
      "(490.0, 205.25, 33.5)\n"
     ]
    }
   ],
   "source": [
    "print(dimension(\"BI500-01-003-01.STEP\"))"
   ]
  },
  {
   "cell_type": "code",
   "execution_count": 8,
   "id": "7b1bd9a8",
   "metadata": {},
   "outputs": [
    {
     "name": "stdout",
     "output_type": "stream",
     "text": [
      "(150.0, 95.0, 31.0)\n"
     ]
    }
   ],
   "source": [
    "print(dimension(\"BI500-01-003-02.STEP\"))"
   ]
  },
  {
   "cell_type": "code",
   "execution_count": 9,
   "id": "d35e1a89",
   "metadata": {},
   "outputs": [
    {
     "data": {
      "text/plain": [
       "(185.0, 196.5, 56.0)"
      ]
     },
     "execution_count": 9,
     "metadata": {},
     "output_type": "execute_result"
    }
   ],
   "source": [
    "dimension(\"BI500-01-003-03.STEP\")"
   ]
  },
  {
   "cell_type": "code",
   "execution_count": 10,
   "id": "9664f168",
   "metadata": {},
   "outputs": [
    {
     "data": {
      "text/plain": [
       "(150.0, 95.0, 31.0)"
      ]
     },
     "execution_count": 10,
     "metadata": {},
     "output_type": "execute_result"
    }
   ],
   "source": [
    "dimension(\"BI500-01-003-04.STEP\")"
   ]
  },
  {
   "cell_type": "code",
   "execution_count": 11,
   "id": "f39a3f9b",
   "metadata": {},
   "outputs": [
    {
     "data": {
      "text/plain": [
       "(145.0, 625.95, 87.0)"
      ]
     },
     "execution_count": 11,
     "metadata": {},
     "output_type": "execute_result"
    }
   ],
   "source": [
    "dimension(\"BI500-01-003-05.STEP\")"
   ]
  },
  {
   "cell_type": "code",
   "execution_count": 12,
   "id": "2341a4e9",
   "metadata": {},
   "outputs": [
    {
     "data": {
      "text/plain": [
       "(30.0, 0.0, 65.0)"
      ]
     },
     "execution_count": 12,
     "metadata": {},
     "output_type": "execute_result"
    }
   ],
   "source": [
    "dimension(\"BI500-01-003-06.STEP\")"
   ]
  },
  {
   "cell_type": "code",
   "execution_count": 13,
   "id": "e9596fe5",
   "metadata": {},
   "outputs": [
    {
     "data": {
      "text/plain": [
       "(55.0, 0.0, 5.45)"
      ]
     },
     "execution_count": 13,
     "metadata": {},
     "output_type": "execute_result"
    }
   ],
   "source": [
    "dimension(\"BI500-01-003-07.STEP\")"
   ]
  },
  {
   "cell_type": "code",
   "execution_count": 14,
   "id": "f11a0318",
   "metadata": {},
   "outputs": [
    {
     "data": {
      "text/plain": [
       "(145.0, 625.95, 87.0)"
      ]
     },
     "execution_count": 14,
     "metadata": {},
     "output_type": "execute_result"
    }
   ],
   "source": [
    "dimension(\"BI500-01-004-01.STEP\")"
   ]
  }
 ],
 "metadata": {
  "kernelspec": {
   "display_name": "Python 3 (ipykernel)",
   "language": "python",
   "name": "python3"
  },
  "language_info": {
   "codemirror_mode": {
    "name": "ipython",
    "version": 3
   },
   "file_extension": ".py",
   "mimetype": "text/x-python",
   "name": "python",
   "nbconvert_exporter": "python",
   "pygments_lexer": "ipython3",
   "version": "3.9.7"
  }
 },
 "nbformat": 4,
 "nbformat_minor": 5
}
