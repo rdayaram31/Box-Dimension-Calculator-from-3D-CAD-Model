{
 "cells": [
  {
   "cell_type": "code",
   "execution_count": 3,
   "id": "95005240",
   "metadata": {},
   "outputs": [],
   "source": [
    "import numpy as np\n",
    "import pandas as pd\n",
    "def dimension(file):\n",
    "    f = open(file,'r')\n",
    "    content = f.readlines()\n",
    "    data = []\n",
    "    for x in range(len(content)):\n",
    "        if \"CARTESIAN_POINT\" in content[x]:\n",
    "            d=content[x].replace(\",\",\"\").split(\" \")\n",
    "            y=d[7],d[8],d[9]\n",
    "            data.append(y)\n",
    "        else:\n",
    "            pass   \n",
    "    # storing all the vertices in np.array  \n",
    "    vertices_data = np.array(data).astype(float)\n",
    "\n",
    "    # storing the X, Y, Z minimum and Maximum values\n",
    "    x_min=np.amin(vertices_data[:,0])\n",
    "    y_min=np.amin(vertices_data[:,1])\n",
    "    z_min=np.amin(vertices_data[:,2])\n",
    "    x_max=np.amax(vertices_data[:,0])\n",
    "    y_max=np.amax(vertices_data[:,1])\n",
    "    z_max=np.amax(vertices_data[:,2])\n",
    "    #  Calculate the distance\n",
    "    def measure(min_,max_):\n",
    "        dist = max_ - min_\n",
    "        return dist\n",
    "    # Finding the Box Dimension:\n",
    "    length = round(measure(x_min,x_max),2)\n",
    "    width = round(measure(y_min,y_max),2)\n",
    "    height = round(measure(z_min,z_max),2)\n",
    "    return length, width, height"
   ]
  },
  {
   "cell_type": "code",
   "execution_count": 4,
   "id": "fb53ebde",
   "metadata": {},
   "outputs": [
    {
     "name": "stdout",
     "output_type": "stream",
     "text": [
      "(100.0, 0.0, 50.0)\n"
     ]
    }
   ],
   "source": [
    "print(dimension(\"ravi.STEP\"))"
   ]
  },
  {
   "cell_type": "code",
   "execution_count": 16,
   "id": "30fe511c",
   "metadata": {},
   "outputs": [
    {
     "name": "stdout",
     "output_type": "stream",
     "text": [
      "(15.0, 28.0, 128.0, -7.5, -28.000000000000007, -64.0, 7.501, 1.1113669702262229e-14, 64.0)\n"
     ]
    }
   ],
   "source": [
    "print(dimension(\"BI300-03-014-02.STEP\"))"
   ]
  },
  {
   "cell_type": "code",
   "execution_count": 17,
   "id": "2258d40c",
   "metadata": {},
   "outputs": [
    {
     "name": "stdout",
     "output_type": "stream",
     "text": [
      "(15.0, 28.0, 128.0, -7.5, -28.000000000000007, -64.0, 7.501, 1.1113669702262229e-14, 64.0)\n"
     ]
    }
   ],
   "source": [
    "print(dimension(\"BI300-03-014-02.STEP\"))"
   ]
  },
  {
   "cell_type": "code",
   "execution_count": 18,
   "id": "38ddab99",
   "metadata": {},
   "outputs": [
    {
     "name": "stdout",
     "output_type": "stream",
     "text": [
      "(190.0, 110.0, 140.0, -6.123233995736777e-16, -110.00000000000007, -70.001, 190.0, 5.898059818321136e-13, 70.0)\n"
     ]
    }
   ],
   "source": [
    "print(dimension(\"BI500-01-002-01.STEP\"))"
   ]
  },
  {
   "cell_type": "code",
   "execution_count": 19,
   "id": "41617d7f",
   "metadata": {},
   "outputs": [
    {
     "name": "stdout",
     "output_type": "stream",
     "text": [
      "(490.0, 205.25, 33.5, -245.0, -110.2499999999998, -10.000000000000002, 245.0, 95.00000000000001, 23.500000000000007)\n"
     ]
    }
   ],
   "source": [
    "print(dimension(\"BI500-01-003-01.STEP\"))"
   ]
  },
  {
   "cell_type": "code",
   "execution_count": 20,
   "id": "7b1bd9a8",
   "metadata": {},
   "outputs": [
    {
     "name": "stdout",
     "output_type": "stream",
     "text": [
      "(150.0, 95.0, 31.0, -36.17283950617283, -52.5, -4.0, 113.82716049382717, 42.5, 27.0)\n"
     ]
    }
   ],
   "source": [
    "print(dimension(\"BI500-01-003-02.STEP\"))"
   ]
  },
  {
   "cell_type": "code",
   "execution_count": 21,
   "id": "d35e1a89",
   "metadata": {},
   "outputs": [
    {
     "data": {
      "text/plain": [
       "(185.0, 196.5, 56.0, -50.0, -32.49999999999995, -28.001, 135.0, 164.0, 28.0)"
      ]
     },
     "execution_count": 21,
     "metadata": {},
     "output_type": "execute_result"
    }
   ],
   "source": [
    "dimension(\"BI500-01-003-03.STEP\")"
   ]
  },
  {
   "cell_type": "code",
   "execution_count": 22,
   "id": "9664f168",
   "metadata": {},
   "outputs": [
    {
     "data": {
      "text/plain": [
       "(150.0,\n",
       " 95.0,\n",
       " 31.0,\n",
       " -36.17283950617283,\n",
       " -52.5,\n",
       " -4.0,\n",
       " 113.82716049382717,\n",
       " 42.5,\n",
       " 27.0)"
      ]
     },
     "execution_count": 22,
     "metadata": {},
     "output_type": "execute_result"
    }
   ],
   "source": [
    "dimension(\"BI500-01-003-04.STEP\")"
   ]
  },
  {
   "cell_type": "code",
   "execution_count": 65,
   "id": "f39a3f9b",
   "metadata": {},
   "outputs": [
    {
     "data": {
      "text/plain": [
       "(145.0, 625.95, 87.0, -72.5, -275.0, -75.0, 72.5, 350.95393340703293, 12.0)"
      ]
     },
     "execution_count": 65,
     "metadata": {},
     "output_type": "execute_result"
    }
   ],
   "source": [
    "dimension(\"BI500-01-003-05.STEP\")"
   ]
  },
  {
   "cell_type": "code",
   "execution_count": 67,
   "id": "2341a4e9",
   "metadata": {},
   "outputs": [
    {
     "data": {
      "text/plain": [
       "(30.0, 0.0, 65.0, -15.0, 0.0, -32.5, 15.0, 1.8369701987210296e-15, 32.5)"
      ]
     },
     "execution_count": 67,
     "metadata": {},
     "output_type": "execute_result"
    }
   ],
   "source": [
    "dimension(\"BI500-01-003-06.STEP\")"
   ]
  },
  {
   "cell_type": "code",
   "execution_count": 68,
   "id": "e9596fe5",
   "metadata": {},
   "outputs": [
    {
     "data": {
      "text/plain": [
       "(55.0, 0.0, 5.45, -27.5, 0.0, -2.725, 27.5, 3.3677786976552213e-15, 2.725)"
      ]
     },
     "execution_count": 68,
     "metadata": {},
     "output_type": "execute_result"
    }
   ],
   "source": [
    "dimension(\"BI500-01-003-07.STEP\")"
   ]
  },
  {
   "cell_type": "code",
   "execution_count": 69,
   "id": "f11a0318",
   "metadata": {},
   "outputs": [
    {
     "data": {
      "text/plain": [
       "(145.0, 625.95, 87.0, -72.5, -275.0, -75.0, 72.5, 350.95393340703293, 12.0)"
      ]
     },
     "execution_count": 69,
     "metadata": {},
     "output_type": "execute_result"
    }
   ],
   "source": [
    "dimension(\"BI500-01-004-01.STEP\")"
   ]
  }
 ],
 "metadata": {
  "kernelspec": {
   "display_name": "Python 3 (ipykernel)",
   "language": "python",
   "name": "python3"
  },
  "language_info": {
   "codemirror_mode": {
    "name": "ipython",
    "version": 3
   },
   "file_extension": ".py",
   "mimetype": "text/x-python",
   "name": "python",
   "nbconvert_exporter": "python",
   "pygments_lexer": "ipython3",
   "version": "3.9.7"
  }
 },
 "nbformat": 4,
 "nbformat_minor": 5
}
