{
 "cells": [
  {
   "cell_type": "code",
   "execution_count": 3,
   "id": "95005240",
   "metadata": {},
   "outputs": [],
   "source": [
    "import numpy as np\n",
    "import pandas as pd\n",
    "def dimension(file):\n",
    "    f = open(file,'r')\n",
    "    content = f.readlines()\n",
    "    data = []\n",
    "    for x in range(len(content)):\n",
    "        if \"CARTESIAN_POINT\" in content[x]:\n",
    "            d=content[x].replace(\",\",\"\").split(\" \")\n",
    "            y=d[7],d[8],d[9]\n",
    "            data.append(y)\n",
    "        else:\n",
    "            pass   \n",
    "    # storing all the vertices in np.array  \n",
    "    vertices_data = np.array(data).astype(float)\n",
    "\n",
    "    # storing the X, Y, Z minimum and Maximum values\n",
    "    x_min=np.amin(vertices_data[:,0])\n",
    "    y_min=np.amin(vertices_data[:,1])\n",
    "    z_min=np.amin(vertices_data[:,2])\n",
    "    x_max=np.amax(vertices_data[:,0])\n",
    "    y_max=np.amax(vertices_data[:,1])\n",
    "    z_max=np.amax(vertices_data[:,2])\n",
    "    #  Calculate the distance\n",
    "    def measure(min_,max_):\n",
    "        dist = max_ - min_\n",
    "        return dist\n",
    "    # Finding the Box Dimension:\n",
    "    length = round(measure(x_min,x_max),2)\n",
    "    width = round(measure(y_min,y_max),2)\n",
    "    height = round(measure(z_min,z_max),2)\n",
    "    return length, width, height"
   ]
  },
  {
   "cell_type": "code",
   "execution_count": 4,
   "id": "fb53ebde",
   "metadata": {},
   "outputs": [
    {
     "name": "stdout",
     "output_type": "stream",
     "text": [
      "(100.0, 0.0, 50.0)\n"
     ]
    }
   ],
   "source": [
    "dimension(\"BI500-01-004-01.STEP\")"
   ]
  }
 ],
 "metadata": {
  "kernelspec": {
   "display_name": "Python 3 (ipykernel)",
   "language": "python",
   "name": "python3"
  },
  "language_info": {
   "codemirror_mode": {
    "name": "ipython",
    "version": 3
   },
   "file_extension": ".py",
   "mimetype": "text/x-python",
   "name": "python",
   "nbconvert_exporter": "python",
   "pygments_lexer": "ipython3",
   "version": "3.9.7"
  }
 },
 "nbformat": 4,
 "nbformat_minor": 5
}
