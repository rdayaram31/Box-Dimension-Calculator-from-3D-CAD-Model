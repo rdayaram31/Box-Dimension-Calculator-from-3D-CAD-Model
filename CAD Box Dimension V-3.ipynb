{
 "cells": [
  {
   "cell_type": "code",
   "execution_count": 1,
   "id": "123821f2",
   "metadata": {},
   "outputs": [],
   "source": [
    "# importing the necessory library\n",
    "import numpy as np\n",
    "import pandas as pd\n",
    "\n",
    "# defining the function to read the box boundry\n",
    "\n",
    "def dimension(file):\n",
    "    f = open(file,'r')\n",
    "    content = f.readlines()\n",
    "#     stroring the each vertext point on the data list\n",
    "    data = []\n",
    "    v_info = []\n",
    "    vertices_data =[]\n",
    "#     cartesian_data =[]\n",
    "#     vt_p = []\n",
    "    for x in range(len(content)):\n",
    "#         checking the file content cartesian points or not\n",
    "        if \"CARTESIAN_POINT\" in content[x]:\n",
    "            d=content[x].replace(\",\",\"\").split(\" \")\n",
    "#             Storing the cartesian point (X,Y,Z)\n",
    "            cartesian_data=d[0],d[7],d[8],d[9]\n",
    "            data.append(cartesian_data)\n",
    "            \n",
    "#         checking for the unit used in step file.\n",
    "        elif \"LENGTH_UNIT\" in content[x]:\n",
    "            d=content[x].replace(\",\",\"\").split(\" \")\n",
    "            length_unit = (d[11] +\" \"+ d[12]).replace(\".\",\"\").title()\n",
    "        elif \"VERTEX_POINT \" in content[x]:\n",
    "            dt=content[x].replace(\",\",\"\").split(\" \")\n",
    "            vt_p=dt[0],dt[5]\n",
    "            v_info.append(vt_p)\n",
    "                  \n",
    "        else:\n",
    "            pass \n",
    "        \n",
    "    df = pd.DataFrame (data, columns = ['Line_no','x','y','z'])\n",
    "    df = df.set_index(\"Line_no\") \n",
    "    \n",
    "    for value in range(len(v_info)):\n",
    "        x_p = df.at[v_info[value][1],'x']\n",
    "        y_p = df.at[v_info[value][1],'y']\n",
    "        z_p = df.at[v_info[value][1],'z']\n",
    "        Points = x_p,y_p,z_p\n",
    "        vertices_data.append(Points)\n",
    "        \n",
    " \n",
    "        \n",
    "#     storing all the vertices in np.array  \n",
    "    vertices_data = np.array(vertices_data).astype(float)\n",
    "\n",
    "#     storing the X, Y, Z minimum and Maximum values\n",
    "    x_min=np.amin(vertices_data[:,0])\n",
    "    y_min=np.amin(vertices_data[:,1])\n",
    "    z_min=np.amin(vertices_data[:,2])\n",
    "    x_max=np.amax(vertices_data[:,0])\n",
    "    y_max=np.amax(vertices_data[:,1])\n",
    "    z_max=np.amax(vertices_data[:,2])\n",
    "    \n",
    "#     Calculate the distance\n",
    "    def measure(min_,max_):\n",
    "        dist = max_ - min_\n",
    "        return dist\n",
    "    \n",
    "#     Finding the Box Dimension:\n",
    "    length = round(measure(x_min,x_max),2)\n",
    "    width = round(measure(y_min,y_max),2)\n",
    "    height = round(measure(z_min,z_max),2)\n",
    "    return length, width, height ,length_unit"
   ]
  },
  {
   "cell_type": "code",
   "execution_count": 10,
   "id": "645a6995",
   "metadata": {},
   "outputs": [
    {
     "data": {
      "text/plain": [
       "(100.0, 0.0, 50.0, 'Milli Metre')"
      ]
     },
     "execution_count": 10,
     "metadata": {},
     "output_type": "execute_result"
    }
   ],
   "source": [
    "dimension(\"ravi.STEP\")"
   ]
  },
  {
   "cell_type": "code",
   "execution_count": 3,
   "id": "906d8028",
   "metadata": {},
   "outputs": [
    {
     "data": {
      "text/plain": [
       "(15.0, 28.0, 128.0, 'Milli Metre')"
      ]
     },
     "execution_count": 3,
     "metadata": {},
     "output_type": "execute_result"
    }
   ],
   "source": [
    "dimension(\"BI300-03-014-02.STEP\")"
   ]
  },
  {
   "cell_type": "code",
   "execution_count": 4,
   "id": "7ea39ae9",
   "metadata": {},
   "outputs": [
    {
     "data": {
      "text/plain": [
       "(190.0, 110.0, 140.0, 'Milli Metre')"
      ]
     },
     "execution_count": 4,
     "metadata": {},
     "output_type": "execute_result"
    }
   ],
   "source": [
    "dimension(\"BI500-01-002-01.STEP\")"
   ]
  },
  {
   "cell_type": "code",
   "execution_count": 5,
   "id": "97af1320",
   "metadata": {},
   "outputs": [
    {
     "data": {
      "text/plain": [
       "(490.0, 179.5, 32.0, 'Milli Metre')"
      ]
     },
     "execution_count": 5,
     "metadata": {},
     "output_type": "execute_result"
    }
   ],
   "source": [
    "dimension(\"BI500-01-003-01.STEP\")"
   ]
  },
  {
   "cell_type": "code",
   "execution_count": 6,
   "id": "ff7edf9e",
   "metadata": {},
   "outputs": [
    {
     "data": {
      "text/plain": [
       "(150.0, 95.0, 31.0, 'Milli Metre')"
      ]
     },
     "execution_count": 6,
     "metadata": {},
     "output_type": "execute_result"
    }
   ],
   "source": [
    "dimension(\"BI500-01-003-02.STEP\")"
   ]
  },
  {
   "cell_type": "code",
   "execution_count": 7,
   "id": "c02c2fd9",
   "metadata": {},
   "outputs": [
    {
     "data": {
      "text/plain": [
       "(185.0, 164.0, 50.0, 'Milli Metre')"
      ]
     },
     "execution_count": 7,
     "metadata": {},
     "output_type": "execute_result"
    }
   ],
   "source": [
    "dimension(\"BI500-01-003-03.STEP\")"
   ]
  },
  {
   "cell_type": "code",
   "execution_count": 9,
   "id": "81f2aebb",
   "metadata": {},
   "outputs": [
    {
     "data": {
      "text/plain": [
       "(145.0, 550.0, 87.0, 'Milli Metre')"
      ]
     },
     "execution_count": 9,
     "metadata": {},
     "output_type": "execute_result"
    }
   ],
   "source": [
    "dimension(\"BI500-01-003-05.STEP\")"
   ]
  },
  {
   "cell_type": "code",
   "execution_count": null,
   "id": "fde2d7b5",
   "metadata": {},
   "outputs": [],
   "source": []
  }
 ],
 "metadata": {
  "kernelspec": {
   "display_name": "Python 3 (ipykernel)",
   "language": "python",
   "name": "python3"
  },
  "language_info": {
   "codemirror_mode": {
    "name": "ipython",
    "version": 3
   },
   "file_extension": ".py",
   "mimetype": "text/x-python",
   "name": "python",
   "nbconvert_exporter": "python",
   "pygments_lexer": "ipython3",
   "version": "3.9.7"
  }
 },
 "nbformat": 4,
 "nbformat_minor": 5
}
